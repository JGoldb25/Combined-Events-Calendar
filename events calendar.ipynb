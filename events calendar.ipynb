{
 "cells": [
  {
   "cell_type": "code",
   "execution_count": 1,
   "id": "0ecf8e56-e002-44df-95d0-9393ef2355f0",
   "metadata": {},
   "outputs": [
    {
     "name": "stdout",
     "output_type": "stream",
     "text": [
      "Requirement already satisfied: requests in /opt/anaconda3/lib/python3.12/site-packages (2.32.2)\n",
      "Requirement already satisfied: beautifulsoup4 in /opt/anaconda3/lib/python3.12/site-packages (4.12.3)\n",
      "Requirement already satisfied: pandas in /opt/anaconda3/lib/python3.12/site-packages (2.2.2)\n",
      "Requirement already satisfied: charset-normalizer<4,>=2 in /opt/anaconda3/lib/python3.12/site-packages (from requests) (2.0.4)\n",
      "Requirement already satisfied: idna<4,>=2.5 in /opt/anaconda3/lib/python3.12/site-packages (from requests) (3.7)\n",
      "Requirement already satisfied: urllib3<3,>=1.21.1 in /opt/anaconda3/lib/python3.12/site-packages (from requests) (2.2.2)\n",
      "Requirement already satisfied: certifi>=2017.4.17 in /opt/anaconda3/lib/python3.12/site-packages (from requests) (2024.7.4)\n",
      "Requirement already satisfied: soupsieve>1.2 in /opt/anaconda3/lib/python3.12/site-packages (from beautifulsoup4) (2.5)\n",
      "Requirement already satisfied: numpy>=1.26.0 in /opt/anaconda3/lib/python3.12/site-packages (from pandas) (1.26.4)\n",
      "Requirement already satisfied: python-dateutil>=2.8.2 in /opt/anaconda3/lib/python3.12/site-packages (from pandas) (2.9.0.post0)\n",
      "Requirement already satisfied: pytz>=2020.1 in /opt/anaconda3/lib/python3.12/site-packages (from pandas) (2024.1)\n",
      "Requirement already satisfied: tzdata>=2022.7 in /opt/anaconda3/lib/python3.12/site-packages (from pandas) (2023.3)\n",
      "Requirement already satisfied: six>=1.5 in /opt/anaconda3/lib/python3.12/site-packages (from python-dateutil>=2.8.2->pandas) (1.16.0)\n",
      "Note: you may need to restart the kernel to use updated packages.\n"
     ]
    }
   ],
   "source": [
    "pip install requests beautifulsoup4 pandas"
   ]
  },
  {
   "cell_type": "code",
   "execution_count": 1,
   "id": "5805ff85-1ce3-484e-ba41-f25f4dc45c4a",
   "metadata": {},
   "outputs": [],
   "source": [
    "import requests\n",
    "from bs4 import BeautifulSoup\n",
    "import pandas as pd\n",
    "\n",
    "# Initialize list for combined events\n",
    "unified_events = []\n",
    "\n",
    "# Friendship Circle NYC\n",
    "url_fc = \"https://www.friendshipcirclenyc.org/events\"\n",
    "response_fc = requests.get(url_fc)\n",
    "soup_fc = BeautifulSoup(response_fc.content, 'html.parser')\n",
    "\n",
    "for event in soup_fc.find_all('div', class_='event-item'):\n",
    "    event_name = event.find('h3').text.strip()\n",
    "    event_time = event.find('time').text.strip()\n",
    "    event_category = \"Friendship Circle Events\"  # Manually assign if no category\n",
    "    event_organizer = \"Friendship Circle NYC\"\n",
    "    \n",
    "    unified_events.append({\n",
    "        'event_name': event_name,\n",
    "        'event_time': event_time,\n",
    "        'event_category': event_category,\n",
    "        'event_organizer': event_organizer\n",
    "    })\n",
    "\n",
    "# Marlene Meyerson JCC Manhattan\n",
    "url_jcc = \"https://mmjccm.org/programs?keywords=&start=&end=&category=1596,1676&sort-by=date\"\n",
    "response_jcc = requests.get(url_jcc)\n",
    "soup_jcc = BeautifulSoup(response_jcc.content, 'html.parser')\n",
    "\n",
    "for event in soup_jcc.find_all('div', class_='program-item'):\n",
    "    event_name = event.find('h3').text.strip()\n",
    "    event_time = event.find('time').text.strip()\n",
    "    event_category = event.find('div', class_='category').text.strip() if event.find('div', class_='category') else \"General\"\n",
    "    event_organizer = \"Marlene Meyerson JCC Manhattan\"\n",
    "    \n",
    "    unified_events.append({\n",
    "        'event_name': event_name,\n",
    "        'event_time': event_time,\n",
    "        'event_category': event_category,\n",
    "        'event_organizer': event_organizer\n",
    "    })\n"
   ]
  },
  {
   "cell_type": "code",
   "execution_count": 3,
   "id": "d6b5cac8-a76d-48d8-bd93-1617ec937756",
   "metadata": {},
   "outputs": [],
   "source": [
    "# Save events to a CSV\n",
    "df = pd.DataFrame(unified_events)\n",
    "df.to_csv('unified_calendar.csv', index=False)\n"
   ]
  },
  {
   "cell_type": "code",
   "execution_count": 8,
   "id": "2ba7018c-35d4-4dea-ad6d-a648e12224ac",
   "metadata": {},
   "outputs": [
    {
     "data": {
      "text/html": [
       "<div>\n",
       "<style scoped>\n",
       "    .dataframe tbody tr th:only-of-type {\n",
       "        vertical-align: middle;\n",
       "    }\n",
       "\n",
       "    .dataframe tbody tr th {\n",
       "        vertical-align: top;\n",
       "    }\n",
       "\n",
       "    .dataframe thead th {\n",
       "        text-align: right;\n",
       "    }\n",
       "</style>\n",
       "<table border=\"1\" class=\"dataframe\">\n",
       "  <thead>\n",
       "    <tr style=\"text-align: right;\">\n",
       "      <th></th>\n",
       "    </tr>\n",
       "  </thead>\n",
       "  <tbody>\n",
       "  </tbody>\n",
       "</table>\n",
       "</div>"
      ],
      "text/plain": [
       "Empty DataFrame\n",
       "Columns: []\n",
       "Index: []"
      ]
     },
     "execution_count": 8,
     "metadata": {},
     "output_type": "execute_result"
    }
   ],
   "source": []
  },
  {
   "cell_type": "code",
   "execution_count": null,
   "id": "7a913ff9-336a-485a-85fd-5ec55fb4ebb5",
   "metadata": {},
   "outputs": [],
   "source": []
  }
 ],
 "metadata": {
  "kernelspec": {
   "display_name": "Python 3 (ipykernel)",
   "language": "python",
   "name": "python3"
  },
  "language_info": {
   "codemirror_mode": {
    "name": "ipython",
    "version": 3
   },
   "file_extension": ".py",
   "mimetype": "text/x-python",
   "name": "python",
   "nbconvert_exporter": "python",
   "pygments_lexer": "ipython3",
   "version": "3.12.4"
  }
 },
 "nbformat": 4,
 "nbformat_minor": 5
}
