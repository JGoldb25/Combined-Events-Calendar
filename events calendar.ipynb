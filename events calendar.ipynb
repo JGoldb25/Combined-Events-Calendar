from bs4 import BeautifulSoup
import pandas as pd

def scrape_events(html_content):
    """
    Scrape event names, dates, and times from the HTML and create a DataFrame
    with organizer, source, event information, event date, and event time.

    Args:
        html_content (str): Raw HTML content from the events page

    Returns:
        pandas.DataFrame: DataFrame containing organizer, source, event names,
                          event dates, and event times
    """
    soup = BeautifulSoup(html_content, 'html.parser')

    # Find all event containers (assuming each event has an 's-events-right' div)
    event_containers = soup.find_all('div', class_='s-events-right')

    events = []
    for container in event_containers:
        # Extract event title
        event_title_element = container.find('h2', class_='event-title')
        event_name = event_title_element.find('a').text.strip()

        # Extract event date and time
        event_datetime_element = container.find('div', class_='event-datetime')
        event_datetime = None
        if event_datetime_element:
            event_datetime = event_datetime_element.text.strip()

            # Split date and time (modify as needed based on your format)
            parts = event_datetime.split(",")
            event_date = parts[0] + ", " + parts[1]  # Combine the first two parts for the date
            event_time = parts[2].strip()  # Assuming time is the third part

            # Extract start time (trim "to")
            start_time = event_time.split(" to ")[0].strip()

            # Extract and trim event date modifier (everything after comma in event date)
            event_date_mod = parts[1].strip()

        # Extract event location
        event_location_element = container.find('div', class_='views-field-nothing')
        event_location = None
        if event_location_element:
            location_text = event_location_element.find('span').text.strip()
            if location_text:
                # Directly use location_text as the event location
                event_location = location_text

        events.append({
            'Organizer': 'Friendship Circle NYC',
            'Source': 'https://www.friendshipcirclenyc.org/events',
            'Event Name': event_name,
            'Date': event_date_mod,
            'Start Time': start_time,
            'Location': event_location
        })

    # Create DataFrame
    df = pd.DataFrame(events)
    return df

# Example usage
html_content = """
<div class="views-row views-row-1 views-row-odd views-row-first">
  <div class="s-events-wrapper s-fadein-processed s-visible">
    <div class="s-events-left">
      <span class="field-content"><a href="/civicrm/event/info?id=1185&amp;reset=1"><img src="https://www.friendshipcirclenyc.org/sites/www.friendshipcirclenyc.org/files/styles/site_event_small/public/civicrm/custom/FCA_Happenings_Events_335_x_140_1_f173841e73ce8047de933b23929a9ffa.png?itok=84UJtzGs" width="335" height="140" alt="">
<div class="eventlist-datebox"><div class="eventlist-datebox-inner"><div class="eventlist-startdate-month">Nov</div><div class="eventlist-startdate-day">10</div><div class="eventlist-enddate">TO Nov 10</div><div class="eventlist-datetag-status"></div></div></div></a></span>      </div>
    <div class="s-events-right">
        <h2 class="field-content event-title"><a href="/civicrm/event/info%3Fid%3D1185%26reset=1">FCA Movie Magic</a></h2>
        <div class="field-content event-datetime">Sunday, November 10, 1:30pm to 2:30pm</div>
        <div class="views-field views-field-nothing">                <span class="field-content"><i class="fal fa-map-marker-alt"></i>Town School - 540 East 76th St, New York, NY</span>      </div>
        <div class="field-content event-link-info"><a href="/civicrm/event/info?id=1185&amp;reset=1" class="s-button s-button-color">Event Info</a></div>
        <div class="field-content event-link-reg"><a href="/civicrm/event/register?id=1185&amp;reset=1" class="s-button s-button-color">Register Now</a></div>
    </div>
  </div>
</div>
"""

df = scrape_events(html_content)
print(df)
